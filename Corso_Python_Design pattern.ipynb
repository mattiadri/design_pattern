{
 "cells": [
  {
   "cell_type": "markdown",
   "metadata": {},
   "source": [
    "# Design pattern"
   ]
  },
  {
   "cell_type": "markdown",
   "metadata": {},
   "source": [
    "Based on https://github.com/mrl5/python-design-patterns of jungwoo ryoo"
   ]
  },
  {
   "cell_type": "markdown",
   "metadata": {},
   "source": [
    "Suggested resources\n",
    "* https://refactoring.guru/design-patterns\n",
    "* https://www.youtube.com/user/schafer5"
   ]
  },
  {
   "cell_type": "markdown",
   "metadata": {},
   "source": [
    "According to wikipedia a design pattern is a general, reusable solution to a commonly occurring problem within a given context in software design"
   ]
  },
  {
   "cell_type": "markdown",
   "metadata": {},
   "source": [
    "Here we will see some of the most important design patterns and we will use python."
   ]
  },
  {
   "cell_type": "markdown",
   "metadata": {},
   "source": [
    "## Intro"
   ]
  },
  {
   "cell_type": "markdown",
   "metadata": {},
   "source": [
    "The first thing to know handling with classes is the difference between class and class instances!"
   ]
  },
  {
   "cell_type": "markdown",
   "metadata": {},
   "source": [
    "Let's see with an example"
   ]
  },
  {
   "cell_type": "code",
   "execution_count": 2,
   "metadata": {},
   "outputs": [],
   "source": [
    "# This is a class that generalize a member of Etc. At the moment it doesn't have any attribute and any method\n",
    "\n",
    "class Etc_member: # A simple class\n",
    "    pass"
   ]
  },
  {
   "cell_type": "code",
   "execution_count": 3,
   "metadata": {},
   "outputs": [],
   "source": [
    "# These are instances of the class Etc_member\n",
    "\n",
    "member1 = Etc_member() # Referred to a specific entity\n",
    "member2 = Etc_member()"
   ]
  },
  {
   "cell_type": "code",
   "execution_count": 4,
   "metadata": {},
   "outputs": [
    {
     "name": "stdout",
     "output_type": "stream",
     "text": [
      "<__main__.Etc_member object at 0x000001ECF64D6748>\n",
      "<__main__.Etc_member object at 0x000001ECF64D6708>\n"
     ]
    }
   ],
   "source": [
    "# These are unique and have a different memory address!\n",
    "\n",
    "print(member1)\n",
    "print(member2)"
   ]
  },
  {
   "cell_type": "code",
   "execution_count": 5,
   "metadata": {},
   "outputs": [
    {
     "name": "stdout",
     "output_type": "stream",
     "text": [
      "Marco\n",
      "Elena\n"
     ]
    }
   ],
   "source": [
    "# We can create variables(attribute) for each instance\n",
    "\n",
    "member1.name = 'Marco'\n",
    "member2.name = 'Elena'\n",
    "\n",
    "print(member1.name)\n",
    "print(member2.name)"
   ]
  },
  {
   "cell_type": "markdown",
   "metadata": {},
   "source": [
    "To avoid this annoying operations python has implemented the method $__init__$ called the constructor"
   ]
  },
  {
   "cell_type": "code",
   "execution_count": 6,
   "metadata": {},
   "outputs": [],
   "source": [
    "# Let's change the class Etc_member \n",
    "\n",
    "class Etc_member:\n",
    "    def __init__(self, name, surname, private):\n",
    "        self.name = name\n",
    "        self.surname = surname\n",
    "        self.email = name + '.' + surname + '@etc-eng.it'\n",
    "        self.private = private\n",
    "        \n",
    "# And instantiate it \n",
    "\n",
    "member1 = Etc_member('Marco','Vian','a lot of')"
   ]
  },
  {
   "cell_type": "code",
   "execution_count": 7,
   "metadata": {},
   "outputs": [
    {
     "data": {
      "text/plain": [
       "'Marco.Vian@etc-eng.it'"
      ]
     },
     "execution_count": 7,
     "metadata": {},
     "output_type": "execute_result"
    }
   ],
   "source": [
    "# For example\n",
    "\n",
    "member1.email"
   ]
  },
  {
   "cell_type": "code",
   "execution_count": null,
   "metadata": {},
   "outputs": [],
   "source": [
    "# Now we can define a method\n",
    "\n",
    "def has_child(self):\n",
    "        if self.private:\n",
    "            return \"{} has a {} children\".format(self.name,self.private)"
   ]
  },
  {
   "cell_type": "code",
   "execution_count": 8,
   "metadata": {},
   "outputs": [],
   "source": [
    "# All together\n",
    "\n",
    "class Etc_member:\n",
    "    def __init__(self, name, surname, private):\n",
    "        self.name = name\n",
    "        self.surname = surname\n",
    "        self.email = name + '.' + surname + '@etc-eng.it'\n",
    "        self.private = private\n",
    "\n",
    "# So the method recive the parameter self and so has access to all attributes of the corrisponding instance\n",
    "        \n",
    "    def has_child(self):\n",
    "        if self.private:\n",
    "            return \"{} has a {} children\".format(self.name,self.private)\n",
    "             "
   ]
  },
  {
   "cell_type": "code",
   "execution_count": 9,
   "metadata": {},
   "outputs": [
    {
     "data": {
      "text/plain": [
       "'Elena has a no children'"
      ]
     },
     "execution_count": 9,
     "metadata": {},
     "output_type": "execute_result"
    }
   ],
   "source": [
    "# Last test \n",
    "\n",
    "member2 = Etc_member('Elena','DeBiase','no')\n",
    "\n",
    "member2.has_child()"
   ]
  },
  {
   "cell_type": "code",
   "execution_count": 10,
   "metadata": {},
   "outputs": [
    {
     "name": "stdout",
     "output_type": "stream",
     "text": [
      "Elena has a no children\n",
      "Elena has a no children\n"
     ]
    }
   ],
   "source": [
    "# Why we have self in class function? This is what in real the method does\n",
    "\n",
    "print(member2.has_child())\n",
    "print(Etc_member.has_child(member2))"
   ]
  },
  {
   "cell_type": "markdown",
   "metadata": {},
   "source": [
    "What is the difference between class variable and instance variable?"
   ]
  },
  {
   "cell_type": "code",
   "execution_count": 12,
   "metadata": {},
   "outputs": [],
   "source": [
    "# Take again our class Etc_member\n",
    "    \n",
    "class Etc_member:\n",
    "    \n",
    "    num_of_emps = 0 #These are a class variable\n",
    "    location = 'Trento'\n",
    "    \n",
    "    def __init__(self, name, surname, private):\n",
    "        self.name = name # These are instance variables \n",
    "        self.surname = surname\n",
    "        self.email = name + '.' + surname + '@etc-eng.it'\n",
    "        self.private = private\n",
    "        \n",
    "        Etc_member.num_of_emps += 1 # init method run every time we instantiate the class\n",
    "        \n",
    "    def where_works(self):\n",
    "        return '{} works in {}'.format(self.name, self.location)\n",
    "    "
   ]
  },
  {
   "cell_type": "code",
   "execution_count": 13,
   "metadata": {},
   "outputs": [
    {
     "name": "stdout",
     "output_type": "stream",
     "text": [
      "0\n",
      "2\n"
     ]
    }
   ],
   "source": [
    "# Let's see how it works\n",
    "\n",
    "print(Etc_member.num_of_emps)\n",
    "\n",
    "member1 = Etc_member('Marco','Vian','a lot of')\n",
    "\n",
    "member2 = Etc_member('Elena','DeBiase','no')\n",
    "\n",
    "print(Etc_member.num_of_emps)"
   ]
  },
  {
   "cell_type": "code",
   "execution_count": 14,
   "metadata": {},
   "outputs": [
    {
     "name": "stdout",
     "output_type": "stream",
     "text": [
      "Matteo works in Bologna\n",
      "Marco works in Trento\n"
     ]
    }
   ],
   "source": [
    "# And what about location?\n",
    "\n",
    "member3 = Etc_member('Matteo','Conflitti','no')\n",
    "\n",
    "member3.location = 'Bologna'\n",
    "\n",
    "print(member3.where_works())\n",
    "print(member1.where_works())"
   ]
  },
  {
   "cell_type": "markdown",
   "metadata": {},
   "source": [
    "What is the difference between regular methods, class methods and static methods?"
   ]
  },
  {
   "cell_type": "code",
   "execution_count": 15,
   "metadata": {},
   "outputs": [],
   "source": [
    "# Take again our class Etc_member\n",
    "    \n",
    "class Etc_member:\n",
    "    \n",
    "    num_of_emps = 0 #These are a class variable\n",
    "    location = 'Trento'\n",
    "    \n",
    "    def __init__(self, name, surname, private):\n",
    "        self.name = name # These are instance variable \n",
    "        self.surname = surname\n",
    "        self.email = name + '.' + surname + '@etc-eng.it'\n",
    "        self.private = private\n",
    "        \n",
    "        Etc_member.num_of_emps += 1\n",
    "        \n",
    "# The regular method operate on the instance\n",
    "        \n",
    "    def regular_method(self):\n",
    "        return 'this is a regular method because I accesss to {} that is a instance variable'.format(self.name)\n",
    "\n",
    "# The class method operate on the class\n",
    "    \n",
    "    @classmethod\n",
    "    def class_method(cls):\n",
    "        return 'this is a regular method because I accesss to {} that is a class variable'.format(Etc_member.location) \n",
    "\n",
    "# The static method do not operate on both\n",
    "    \n",
    "    @staticmethod\n",
    "    def static_method():\n",
    "        return 'this is a regular method because do not accesss to both'\n",
    "        "
   ]
  },
  {
   "cell_type": "code",
   "execution_count": 16,
   "metadata": {},
   "outputs": [
    {
     "name": "stdout",
     "output_type": "stream",
     "text": [
      "this is a regular method because I accesss to Marco that is a instance variable\n",
      "this is a regular method because I accesss to Trento that is a class variable\n",
      "this is a regular method because do not accesss to both\n"
     ]
    }
   ],
   "source": [
    "# See this in action\n",
    "\n",
    "member1 = Etc_member('Marco','Vian','a lot of')\n",
    "\n",
    "print(member1.regular_method())\n",
    "\n",
    "print(member1.class_method())\n",
    "\n",
    "print(member1.static_method())"
   ]
  },
  {
   "cell_type": "markdown",
   "metadata": {},
   "source": [
    "Now we talk a bit about subclasses"
   ]
  },
  {
   "cell_type": "code",
   "execution_count": 17,
   "metadata": {},
   "outputs": [],
   "source": [
    "# Define our subclass\n",
    "\n",
    "class D3_member(Etc_member): # We inerite from Etc_member class\n",
    "\n",
    "# We create a new init method to pass all attribute to the new class\n",
    "    \n",
    "    def __init__(self, name, surname, private): \n",
    "            Etc_member.__init__(self, name, surname, private) # To avoid writing all atributes again\n",
    "            #super().__init__(name, surname, private) # Just an alternative\n",
    "            \n",
    "            self.email = name + '.' + surname + '@d-3.it' # We modify the email "
   ]
  },
  {
   "cell_type": "code",
   "execution_count": 18,
   "metadata": {},
   "outputs": [
    {
     "data": {
      "text/plain": [
       "'Mattia.DiIorio@d-3.it'"
      ]
     },
     "execution_count": 18,
     "metadata": {},
     "output_type": "execute_result"
    }
   ],
   "source": [
    "# Intatiate the new sub-class\n",
    "\n",
    "the_only_one = D3_member('Mattia','DiIorio','no')\n",
    "\n",
    "# Check if email is correct\n",
    "\n",
    "the_only_one.email"
   ]
  },
  {
   "cell_type": "markdown",
   "metadata": {},
   "source": [
    "When you get lost type this:"
   ]
  },
  {
   "cell_type": "code",
   "execution_count": 19,
   "metadata": {},
   "outputs": [
    {
     "name": "stdout",
     "output_type": "stream",
     "text": [
      "Help on class D3_member in module __main__:\n",
      "\n",
      "class D3_member(Etc_member)\n",
      " |  D3_member(name, surname, private)\n",
      " |  \n",
      " |  Method resolution order:\n",
      " |      D3_member\n",
      " |      Etc_member\n",
      " |      builtins.object\n",
      " |  \n",
      " |  Methods defined here:\n",
      " |  \n",
      " |  __init__(self, name, surname, private)\n",
      " |      Initialize self.  See help(type(self)) for accurate signature.\n",
      " |  \n",
      " |  ----------------------------------------------------------------------\n",
      " |  Methods inherited from Etc_member:\n",
      " |  \n",
      " |  regular_method(self)\n",
      " |  \n",
      " |  ----------------------------------------------------------------------\n",
      " |  Class methods inherited from Etc_member:\n",
      " |  \n",
      " |  class_method() from builtins.type\n",
      " |  \n",
      " |  ----------------------------------------------------------------------\n",
      " |  Static methods inherited from Etc_member:\n",
      " |  \n",
      " |  static_method()\n",
      " |  \n",
      " |  ----------------------------------------------------------------------\n",
      " |  Data descriptors inherited from Etc_member:\n",
      " |  \n",
      " |  __dict__\n",
      " |      dictionary for instance variables (if defined)\n",
      " |  \n",
      " |  __weakref__\n",
      " |      list of weak references to the object (if defined)\n",
      " |  \n",
      " |  ----------------------------------------------------------------------\n",
      " |  Data and other attributes inherited from Etc_member:\n",
      " |  \n",
      " |  location = 'Trento'\n",
      " |  \n",
      " |  num_of_emps = 2\n",
      "\n"
     ]
    }
   ],
   "source": [
    "help(D3_member)"
   ]
  },
  {
   "cell_type": "markdown",
   "metadata": {},
   "source": [
    "## Creational Pattern"
   ]
  },
  {
   "cell_type": "markdown",
   "metadata": {},
   "source": [
    "* Factory\n",
    "* Abstract Factory\n",
    "* Singleton\n",
    "* Builder\n",
    "* Prototype"
   ]
  },
  {
   "cell_type": "markdown",
   "metadata": {},
   "source": [
    "### Factory"
   ]
  },
  {
   "cell_type": "markdown",
   "metadata": {},
   "source": [
    "It consists in create object in a super class, but allow the subclasses to modify that object when create it"
   ]
  },
  {
   "cell_type": "markdown",
   "metadata": {},
   "source": [
    "The factory solution is used when you are not sure of what objects you will need in the future or you have to made decision in runtime "
   ]
  },
  {
   "cell_type": "markdown",
   "metadata": {},
   "source": [
    "Let's see an example: Scenario -> Your company send goods by truck, but after you start sending also by ship"
   ]
  },
  {
   "cell_type": "code",
   "execution_count": 20,
   "metadata": {},
   "outputs": [],
   "source": [
    "# At time 0 our company send goods by truck\n",
    "\n",
    "class send_by_truck:\n",
    "    \n",
    "    def __init__(self, what_is_inside):\n",
    "        self._what_is_inside = what_is_inside\n",
    "        \n",
    "    def route(self):\n",
    "        return('road transport')\n",
    "\n",
    "# Now we can plan the shipment of our goods! this is our factory method!\n",
    "\n",
    "def start_shipment(method = 'road'):\n",
    "    ''' My factory '''\n",
    "    \n",
    "    shipment = dict(road = send_by_truck('Apple'))\n",
    "    return shipment[method]"
   ]
  },
  {
   "cell_type": "code",
   "execution_count": 21,
   "metadata": {},
   "outputs": [
    {
     "data": {
      "text/plain": [
       "'road transport'"
      ]
     },
     "execution_count": 21,
     "metadata": {},
     "output_type": "execute_result"
    }
   ],
   "source": [
    "# Now we test it\n",
    "first_attempt=start_shipment('road')\n",
    "first_attempt.route()"
   ]
  },
  {
   "cell_type": "code",
   "execution_count": 22,
   "metadata": {},
   "outputs": [],
   "source": [
    "# At time 1 our company want to sent goods also by ships\n",
    "# So with factory method is easy impement a new class just copy the old one and changin the difference\n",
    "\n",
    "class send_by_ship:\n",
    "    \n",
    "    def __init__(self, what_is_inside):\n",
    "        self._what_is_inside = what_is_inside\n",
    "        \n",
    "    def route(self):\n",
    "        return('maritime transport')\n",
    "\n",
    "# Now we can do minor changes to the factory to handle ships\n",
    "\n",
    "def start_shipment(method = 'road'):\n",
    "    ''' My factory '''\n",
    "    \n",
    "    org_shipment = dict(road = send_by_truck('Apple'), sea = send_by_ship('Banana'))\n",
    "    return org_shipment[method]"
   ]
  },
  {
   "cell_type": "code",
   "execution_count": 23,
   "metadata": {},
   "outputs": [
    {
     "data": {
      "text/plain": [
       "'maritime transport'"
      ]
     },
     "execution_count": 23,
     "metadata": {},
     "output_type": "execute_result"
    }
   ],
   "source": [
    "# and now we get\n",
    "second_attempt = start_shipment('sea')\n",
    "second_attempt.route()"
   ]
  },
  {
   "cell_type": "markdown",
   "metadata": {},
   "source": [
    "### Abstract Factory"
   ]
  },
  {
   "cell_type": "markdown",
   "metadata": {},
   "source": [
    "An abstract factory lets you produce families of related objects without specifying their concrete classes"
   ]
  },
  {
   "cell_type": "markdown",
   "metadata": {},
   "source": [
    "This solution is used when you have to produce a family of related objects at a given time"
   ]
  },
  {
   "cell_type": "markdown",
   "metadata": {},
   "source": [
    "Let's see an example: Scenario -> Your company produce forniture and sell them in a shop "
   ]
  },
  {
   "cell_type": "code",
   "execution_count": 26,
   "metadata": {},
   "outputs": [],
   "source": [
    "# We have our object and we define its technical specifications\n",
    "\n",
    "class my_chair:\n",
    "    \n",
    "    def __str__(self):\n",
    "        return('chair')\n",
    "        \n",
    "    def sit(self):\n",
    "        return('you can sit on a chair')\n",
    "\n",
    "# Now we define the factory that create the object    \n",
    "    \n",
    "class chair_factory:\n",
    "    ''' Concrete Factory '''\n",
    "    \n",
    "    def get_chair(self):\n",
    "        return my_chair()\n",
    "\n",
    "    def get_legs(self):\n",
    "        return '4 feet'\n",
    "\n",
    "# Define the object that can hald all our different factories    \n",
    "    \n",
    "class forniture_shop():\n",
    "    ''' This is our Abstact Factory '''\n",
    "    \n",
    "    def __init__(self, forniture=None):\n",
    "        self._forniture = forniture\n",
    "        \n",
    "    def show_forniture(self):\n",
    "        ''' Utility methods to show forniture'''\n",
    "        \n",
    "        my_forniture = self._forniture.get_chair()\n",
    "        my_legs = self._forniture.get_legs()\n",
    "        \n",
    "        print('you chose a {}'.format(my_forniture))\n",
    "        print('our forniture is very helpful because {}'.format(my_forniture.sit()))\n",
    "        print('our forniture has {}'.format(my_legs))\n",
    "     "
   ]
  },
  {
   "cell_type": "code",
   "execution_count": 27,
   "metadata": {},
   "outputs": [
    {
     "name": "stdout",
     "output_type": "stream",
     "text": [
      "you chose a chair\n",
      "our forniture is very helpful because you can sit on a chair\n",
      "our forniture has 4 feet\n"
     ]
    }
   ],
   "source": [
    "# So create the factory\n",
    "\n",
    "c_factory = chair_factory()\n",
    "\n",
    "# We housing our shop with the chair factory\n",
    "\n",
    "shop = forniture_shop(c_factory)\n",
    "\n",
    "# Let's see what happens\n",
    "\n",
    "shop.show_forniture()"
   ]
  },
  {
   "cell_type": "code",
   "execution_count": 28,
   "metadata": {},
   "outputs": [
    {
     "data": {
      "text/plain": [
       "'chair'"
      ]
     },
     "execution_count": 28,
     "metadata": {},
     "output_type": "execute_result"
    }
   ],
   "source": [
    "# Let's see how __str__ method works\n",
    "str(my_chair())"
   ]
  },
  {
   "cell_type": "markdown",
   "metadata": {},
   "source": [
    "### Singleton"
   ]
  },
  {
   "cell_type": "markdown",
   "metadata": {},
   "source": [
    "Singleton is a way of create a global variable in a object oriented way"
   ]
  },
  {
   "cell_type": "markdown",
   "metadata": {},
   "source": [
    "It is useful when you want create a class with a single instance and you want to give a global access to it"
   ]
  },
  {
   "cell_type": "markdown",
   "metadata": {},
   "source": [
    "Let's see an example: Scenario -> Borg design pattern"
   ]
  },
  {
   "cell_type": "code",
   "execution_count": 29,
   "metadata": {},
   "outputs": [],
   "source": [
    "# There are many ways to create a singleton here we use the borg design pattern\n",
    "\n",
    "class my_global_dict:\n",
    "    ''' my doc '''\n",
    "    _shared_dict = {}\n",
    "\n",
    "# We first create an attribute dict and after we initialize it    \n",
    "    \n",
    "    def __init__(self):\n",
    "        self.__dict__ = self._shared_dict\n",
    "\n",
    "# Now we can create our Singleton that inherits methods from previous class\n",
    "\n",
    "class Singleton(my_global_dict):\n",
    "    def __init__(self, **kwargs):\n",
    "        my_global_dict.__init__(self)\n",
    "        \n",
    "        self._shared_dict.update(kwargs)\n",
    "\n",
    "        \n",
    "    def __str__(self):\n",
    "        return str(self._shared_dict)"
   ]
  },
  {
   "cell_type": "code",
   "execution_count": 30,
   "metadata": {},
   "outputs": [
    {
     "name": "stdout",
     "output_type": "stream",
     "text": [
      "{'uno': 1}\n",
      "{'uno': 1, 'due': '2'}\n"
     ]
    }
   ],
   "source": [
    "# Let's see it in action\n",
    "\n",
    "x = Singleton(uno = 1)\n",
    "print(x)\n",
    "\n",
    "y = Singleton(due = '2')\n",
    "print(y)"
   ]
  },
  {
   "cell_type": "code",
   "execution_count": 31,
   "metadata": {},
   "outputs": [
    {
     "name": "stdout",
     "output_type": "stream",
     "text": [
      "{'uno': 1, 'due': '2'}\n"
     ]
    }
   ],
   "source": [
    "# Are you sure you have understood?\n",
    "\n",
    "print(x)"
   ]
  },
  {
   "cell_type": "code",
   "execution_count": 32,
   "metadata": {},
   "outputs": [
    {
     "data": {
      "text/plain": [
       "mappingproxy({'__module__': '__main__',\n",
       "              '__doc__': ' my doc ',\n",
       "              '_shared_dict': {'uno': 1, 'due': '2'},\n",
       "              '__init__': <function __main__.my_global_dict.__init__(self)>,\n",
       "              '__dict__': <attribute '__dict__' of 'my_global_dict' objects>,\n",
       "              '__weakref__': <attribute '__weakref__' of 'my_global_dict' objects>})"
      ]
     },
     "execution_count": 32,
     "metadata": {},
     "output_type": "execute_result"
    }
   ],
   "source": [
    "# Just for curious of method __dict__\n",
    "\n",
    "my_global_dict.__dict__"
   ]
  },
  {
   "cell_type": "code",
   "execution_count": 33,
   "metadata": {},
   "outputs": [
    {
     "name": "stdout",
     "output_type": "stream",
     "text": [
      "{'uno': 1, 'due': '2'}\n"
     ]
    }
   ],
   "source": [
    "# I cannot acces anymore from here to my shared dict\n",
    "\n",
    "_shared_dict = {}\n",
    "print(x)"
   ]
  },
  {
   "cell_type": "code",
   "execution_count": 34,
   "metadata": {},
   "outputs": [
    {
     "name": "stdout",
     "output_type": "stream",
     "text": [
      "{}\n"
     ]
    }
   ],
   "source": [
    "# This works \n",
    "\n",
    "my_global_dict._shared_dict = {}\n",
    "print(x)"
   ]
  },
  {
   "cell_type": "markdown",
   "metadata": {},
   "source": [
    "### Builder"
   ]
  },
  {
   "cell_type": "markdown",
   "metadata": {},
   "source": [
    "Builder is a design pattern that allow you to create complex object step by step"
   ]
  },
  {
   "cell_type": "markdown",
   "metadata": {},
   "source": [
    "It is used when you have too many constructors"
   ]
  },
  {
   "cell_type": "markdown",
   "metadata": {},
   "source": [
    "Let's see an example: Scenario -> We have to assembly a car"
   ]
  },
  {
   "cell_type": "code",
   "execution_count": 35,
   "metadata": {},
   "outputs": [],
   "source": [
    "# Create the object that we want to build   \n",
    "\n",
    "class Car():\n",
    "    ''' Product '''\n",
    "    \n",
    "    def __init__(self):\n",
    "        self.model = None\n",
    "        self.tires = None\n",
    "        self.engine = None\n",
    "        \n",
    "    def __str__(self):\n",
    "        return('hey folks! we have built a {} with {} and a {}'.format(self.model, self.tires, self.engine)) \n",
    "    \n",
    "# Now we need a general builder methods    \n",
    "    \n",
    "class builder():\n",
    "    ''' Abstract Builder'''\n",
    "    \n",
    "    def __init__(self):\n",
    "        self.car = None\n",
    "        \n",
    "    def create_new_car(self):\n",
    "        self.car = Car()\n",
    "\n",
    "# We can specialize the builder\n",
    "        \n",
    "class ferrari_builder(builder):\n",
    "    ''' Concrete builder '''\n",
    "\n",
    "    def add_model(self):\n",
    "        self.car.model = 'Ferrari'\n",
    "        \n",
    "    def add_tires(self):\n",
    "        self.car.tires = 'special tires'\n",
    "        \n",
    "    def add_engine(self):\n",
    "        self.car.engine = 'very powerful engine'\n",
    "        \n",
    "# Let's create a general director that organize the assembly\n",
    "\n",
    "class director():\n",
    "    ''' Director '''\n",
    "    \n",
    "    def __init__(self, builder):\n",
    "        self._builder = builder\n",
    "        \n",
    "    def construct_car(self):\n",
    "        self._builder.create_new_car()\n",
    "        self._builder.add_model()\n",
    "        self._builder.add_tires()\n",
    "        self._builder.add_engine()\n",
    "        \n",
    "    def get_car(self):\n",
    "        return self._builder.car"
   ]
  },
  {
   "cell_type": "code",
   "execution_count": 36,
   "metadata": {},
   "outputs": [
    {
     "name": "stdout",
     "output_type": "stream",
     "text": [
      "hey folks! we have built a Ferrari with special tires and a very powerful engine\n"
     ]
    }
   ],
   "source": [
    "# See it in action\n",
    "\n",
    "builder = ferrari_builder()\n",
    "director = director(builder)\n",
    "director.construct_car()\n",
    "car = director.get_car()\n",
    "print(car)"
   ]
  },
  {
   "cell_type": "markdown",
   "metadata": {},
   "source": [
    "let me emphasize that we can simply change our concrete builder to have a different type of car"
   ]
  },
  {
   "cell_type": "markdown",
   "metadata": {},
   "source": [
    "### Prototype"
   ]
  },
  {
   "cell_type": "markdown",
   "metadata": {},
   "source": [
    "Is an efficient way of make copy of an object without dependecies problems"
   ]
  },
  {
   "cell_type": "markdown",
   "metadata": {},
   "source": [
    "A typical use can be when creating object is more expensive than cloning"
   ]
  },
  {
   "cell_type": "markdown",
   "metadata": {},
   "source": [
    "Let's see an example: Scenario -> Mass production of cakes"
   ]
  },
  {
   "cell_type": "code",
   "execution_count": 37,
   "metadata": {},
   "outputs": [],
   "source": [
    "# Define some methods of our prototype\n",
    "\n",
    "import copy\n",
    "\n",
    "class prototype:\n",
    "    \n",
    "    def __init__(self):\n",
    "        self._objects = {}\n",
    "        \n",
    "    def register_object(self, name, ob):\n",
    "        self._objects[name] = ob\n",
    "    \n",
    "    def unregister_object(self, name):\n",
    "        del self._objects[name]\n",
    "        \n",
    "    def clone(self, name, **attr):\n",
    "        obj = copy.deepcopy(self._objects.get(name))\n",
    "        obj.__dict__.update(attr)\n",
    "        return obj\n",
    "\n",
    "# Define our product    \n",
    "    \n",
    "class Cake:\n",
    "    ''' Product '''\n",
    "    \n",
    "    def __init__(self):\n",
    "        self.name = 'sacher'\n",
    "        self.color = 'brown' \n",
    "        self.ingredient = 'chocolate'\n",
    "        \n",
    "    def __str__(self):\n",
    "        return('we have built a {} made of {} and colored {}'.format(self.name, self.ingredient, self.color))"
   ]
  },
  {
   "cell_type": "code",
   "execution_count": 38,
   "metadata": {},
   "outputs": [
    {
     "name": "stdout",
     "output_type": "stream",
     "text": [
      "we have built a sacher made of chocolate and colored brown\n",
      "we have built a sacher made of chocolate and colored brown\n"
     ]
    }
   ],
   "source": [
    "# So we build the cake\n",
    "t1 = Cake()\n",
    "\n",
    "# We create the object prototype\n",
    "\n",
    "prot = prototype()\n",
    "\n",
    "# We register the cake\n",
    "\n",
    "prot.register_object('sacher-cake', t1)\n",
    "\n",
    "# and we colne it!\n",
    "\n",
    "t2 = prot.clone('sacher-cake')\n",
    "t3 = prot.clone('sacher-cake')\n",
    "\n",
    "# It works!\n",
    "\n",
    "print(t2)\n",
    "print(t3)"
   ]
  },
  {
   "cell_type": "markdown",
   "metadata": {},
   "source": [
    "## Structural Design Patterns"
   ]
  },
  {
   "cell_type": "markdown",
   "metadata": {},
   "source": [
    "* Decorator\n",
    "* Proxy\n",
    "* Adapter\n",
    "* Composite\n",
    "* Bridge"
   ]
  },
  {
   "cell_type": "markdown",
   "metadata": {},
   "source": [
    "### Decorator"
   ]
  },
  {
   "cell_type": "markdown",
   "metadata": {},
   "source": [
    "It is a design pattern that allow you to add new behaviors to objects"
   ]
  },
  {
   "cell_type": "markdown",
   "metadata": {},
   "source": [
    "It is used when you want add new features to an object without using subclassing"
   ]
  },
  {
   "cell_type": "markdown",
   "metadata": {},
   "source": [
    "Let's see an example: Scenario -> Try to enpower the famous 'Hello, world!' program"
   ]
  },
  {
   "cell_type": "code",
   "execution_count": 42,
   "metadata": {},
   "outputs": [
    {
     "name": "stdout",
     "output_type": "stream",
     "text": [
      "Hello, world!\n"
     ]
    }
   ],
   "source": [
    "# This not need presentation right?\n",
    "\n",
    "def hello():\n",
    "    ''' We all know this one '''\n",
    "    \n",
    "    return 'Hello, world!'\n",
    "\n",
    "# and\n",
    "\n",
    "print(hello())"
   ]
  },
  {
   "cell_type": "code",
   "execution_count": 43,
   "metadata": {},
   "outputs": [],
   "source": [
    "# Try to decorate it\n",
    "\n",
    "from functools import wraps\n",
    "\n",
    "def hello_plus(function):\n",
    "        \n",
    "# This made our decorator invisible we will se how it works soon\n",
    "    @wraps(function)\n",
    "    \n",
    "    def decorator():\n",
    "        ''' This is our decorator '''\n",
    "        \n",
    "        orig = function()\n",
    "        \n",
    "        return 'Yaaaawn! ' + orig + ' How are you?'\n",
    "\n",
    "    return decorator"
   ]
  },
  {
   "cell_type": "code",
   "execution_count": 44,
   "metadata": {},
   "outputs": [
    {
     "name": "stdout",
     "output_type": "stream",
     "text": [
      "Yaaaawn! Hello, world! How are you?\n"
     ]
    }
   ],
   "source": [
    "# So now apply the decorator to our function\n",
    "\n",
    "@hello_plus\n",
    "def hello():\n",
    "    ''' We all know this one '''\n",
    "    \n",
    "    return 'Hello, world!'\n",
    "\n",
    "print(hello())"
   ]
  },
  {
   "cell_type": "code",
   "execution_count": 45,
   "metadata": {},
   "outputs": [
    {
     "name": "stdout",
     "output_type": "stream",
     "text": [
      "The name is: hello\n",
      "The doc is:  We all know this one \n"
     ]
    }
   ],
   "source": [
    "# Let's check if our wrap is invisible\n",
    "print('The name is: '+hello.__name__)\n",
    "print('The doc is: '+hello.__doc__)"
   ]
  },
  {
   "cell_type": "markdown",
   "metadata": {},
   "source": [
    "### Proxy"
   ]
  },
  {
   "cell_type": "markdown",
   "metadata": {},
   "source": [
    "It is a structure that provide a placeholder for another object"
   ]
  },
  {
   "cell_type": "markdown",
   "metadata": {},
   "source": [
    "We use a proxy when we want to postpone the object creation cause is resource intensive"
   ]
  },
  {
   "cell_type": "markdown",
   "metadata": {},
   "source": [
    "Let's see an example: Scenario -> Write on a database"
   ]
  },
  {
   "cell_type": "code",
   "execution_count": 46,
   "metadata": {},
   "outputs": [],
   "source": [
    "# The object write_in_database is very resource expensive\n",
    "\n",
    "import time\n",
    "\n",
    "class write_in_database:\n",
    "    ''' this is a resource intensive object '''\n",
    "    \n",
    "    def busy(self):\n",
    "        print('the database is still writing')\n",
    "        \n",
    "    def free(self):\n",
    "        print('the database is not writing now')\n",
    "\n",
    "# So we create the proxy that can handle more requests cause is less resource expensive        \n",
    "        \n",
    "class proxy:\n",
    "    ''' proxy has to be less resource expensive than the resource '''\n",
    "    \n",
    "    def __init__(self):\n",
    "        self.occupied = 'No'\n",
    "        self.database = None \n",
    "        \n",
    "    def is_busy(self):\n",
    "        print('proxy is checking if resource is free')\n",
    "        \n",
    "# Check if databse is busy\n",
    "        \n",
    "        if(self.occupied == 'No'):\n",
    "            self.producer = write_in_database()\n",
    "            time.sleep(2)\n",
    "\n",
    "# So we can call him    \n",
    "        \n",
    "            self.producer.free()\n",
    "            \n",
    "# otherwise...\n",
    "            \n",
    "        else:\n",
    "            time.sleep(2)\n",
    "            print('database is busy') # why we dont call busy function here?  "
   ]
  },
  {
   "cell_type": "code",
   "execution_count": 47,
   "metadata": {},
   "outputs": [
    {
     "name": "stdout",
     "output_type": "stream",
     "text": [
      "proxy is checking if resource is free\n",
      "the database is not writing now\n",
      "###try to do another attempt###\n",
      "proxy is checking if resource is free\n",
      "database is busy\n"
     ]
    }
   ],
   "source": [
    "# Instantiate a proxy            \n",
    "            \n",
    "p = proxy()\n",
    "\n",
    "# Check if we can write\n",
    "\n",
    "p.is_busy()\n",
    "\n",
    "# Change the status\n",
    "\n",
    "p.occupied = 'Yes'\n",
    "\n",
    "# Check again\n",
    "\n",
    "print('###try to do another attempt###')\n",
    "time.sleep(3)\n",
    "p.is_busy() "
   ]
  },
  {
   "cell_type": "markdown",
   "metadata": {},
   "source": [
    "### Adapter"
   ]
  },
  {
   "cell_type": "markdown",
   "metadata": {},
   "source": [
    "It is a design patter that convert the interface of a class in another one"
   ]
  },
  {
   "cell_type": "markdown",
   "metadata": {},
   "source": [
    "Adapter is used when you have to ensure compatibility with multiple source"
   ]
  },
  {
   "cell_type": "markdown",
   "metadata": {},
   "source": [
    "Let's see an example: Scenario -> Translation"
   ]
  },
  {
   "cell_type": "code",
   "execution_count": 48,
   "metadata": {},
   "outputs": [],
   "source": [
    "# Define the italian speaker\n",
    "\n",
    "class Italian:\n",
    "    def __init__(self):\n",
    "        self.name = 'italian'\n",
    "        \n",
    "    def speak_italian(self):\n",
    "        return 'Ciao!'\n",
    "    \n",
    "# Define the korean speaker\n",
    "\n",
    "class Korean:\n",
    "    def __init__(self):\n",
    "        self.name = 'korean'\n",
    "        \n",
    "    def speak_korean(self):\n",
    "        return 'Annyeonghaseyo!'\n",
    "\n",
    "# Create the adapter\n",
    "\n",
    "class adapter:\n",
    "    ''' This change the generic method in the specific one'''\n",
    "    \n",
    "    def __init__(self, object, **adapted_method):\n",
    "        self._object = object\n",
    "        \n",
    "# Add a dict that map between the generic name and the specific \n",
    "        self.__dict__.update(adapted_method)\n",
    "    \n",
    "    def __getattr__(self, attr):\n",
    "        return getattr(self._object, attr)"
   ]
  },
  {
   "cell_type": "code",
   "execution_count": 49,
   "metadata": {},
   "outputs": [
    {
     "name": "stdout",
     "output_type": "stream",
     "text": [
      "Who speaks italian says: Ciao!\n",
      "\n",
      "Who speaks korean says: Annyeonghaseyo!\n",
      "\n"
     ]
    }
   ],
   "source": [
    "# Create a list to store \n",
    "\n",
    "objects = []\n",
    "\n",
    "# Create our speakers\n",
    "\n",
    "one_italian = Italian()\n",
    "\n",
    "one_korean = Korean()\n",
    "\n",
    "# Map their language\n",
    "\n",
    "objects.append(adapter(one_italian, speak = one_italian.speak_italian))\n",
    "objects.append(adapter(one_korean, speak = one_korean.speak_korean))\n",
    "\n",
    "# Show what w ehave stored\n",
    "\n",
    "for i in objects:\n",
    "    print('Who speaks {} says: {}\\n'.format(i.name, i.speak())) #note I invoche"
   ]
  },
  {
   "cell_type": "markdown",
   "metadata": {},
   "source": [
    "### Composite"
   ]
  },
  {
   "cell_type": "markdown",
   "metadata": {},
   "source": [
    "It let you to compose a three data structure by adding easier structures"
   ]
  },
  {
   "cell_type": "markdown",
   "metadata": {},
   "source": [
    "Composite is used when you have recursive structure"
   ]
  },
  {
   "cell_type": "markdown",
   "metadata": {},
   "source": [
    "Let's see an example: Scenario -> Menu and sub menu"
   ]
  },
  {
   "cell_type": "code",
   "execution_count": 50,
   "metadata": {},
   "outputs": [],
   "source": [
    "# Create the component our abstract class\n",
    "\n",
    "class Component(object):\n",
    "    \n",
    "    def __init__(self, *args, **kwargs):\n",
    "        pass\n",
    "\n",
    "# Here we just define the function interface \n",
    "    \n",
    "    def component_function(self):\n",
    "        pass\n",
    "\n",
    "# Create our concrete class    \n",
    "    \n",
    "class Child(Component): #inherits from class Component\n",
    "    \n",
    "    def __init__(self, *args, **kwargs):\n",
    "        Component.__init__(self, *args, **kwargs)\n",
    "        \n",
    "        self.name = args[0] # Save first argument when we instantiate \n",
    "        \n",
    "    def component_function(self): # Here we implement the method component_function\n",
    "        print('{}'.format(self.name))\n",
    "\n",
    "# Create the composite\n",
    "\n",
    "class Composite(Component):\n",
    "    \n",
    "    def __init__(self, *args, **kwargs):\n",
    "        Component.__init__(self, *args, **kwargs)\n",
    "        \n",
    "        self.name = args[0]\n",
    "        \n",
    "        self.children = []\n",
    "        \n",
    "# Here we put some utility methods append and remove\n",
    "        \n",
    "    def append_child(self, child):\n",
    "        self.children.append(child)\n",
    "        \n",
    "    def remove_child(self, child):\n",
    "        self.children.remove(child)\n",
    "        \n",
    "    def component_function(self): # Now our method print also all children name\n",
    "        print('{}'.format(self.name))\n",
    "        \n",
    "        for i in self.children:\n",
    "            i.component_function()    "
   ]
  },
  {
   "cell_type": "code",
   "execution_count": 51,
   "metadata": {},
   "outputs": [
    {
     "name": "stdout",
     "output_type": "stream",
     "text": [
      "top_menu\n",
      "submenu_1\n",
      "sub_submenu_11\n",
      "sub_submenu_12\n",
      "submenu_2\n"
     ]
    }
   ],
   "source": [
    "# Build a submenu\n",
    "\n",
    "sub1 = Composite('submenu_1')\n",
    "\n",
    "# Build some child sub_submenu\n",
    "\n",
    "sub11 = Child('sub_submenu_11')\n",
    "\n",
    "sub12 = Child('sub_submenu_12')\n",
    "\n",
    "# Add the child to the submenu\n",
    "\n",
    "sub1.append_child(sub11)\n",
    "\n",
    "sub1.append_child(sub12)\n",
    "\n",
    "# Create the parent menu\n",
    "\n",
    "top = Composite('top_menu')\n",
    "\n",
    "# Create another branch\n",
    "\n",
    "sub2= Child('submenu_2')\n",
    "\n",
    "# Add the submenu to the top \n",
    "\n",
    "top.append_child(sub1)\n",
    "\n",
    "top.append_child(sub2)\n",
    "\n",
    "# Let's see\n",
    "\n",
    "top.component_function()"
   ]
  },
  {
   "cell_type": "markdown",
   "metadata": {},
   "source": [
    "### Bridge"
   ]
  },
  {
   "cell_type": "markdown",
   "metadata": {},
   "source": [
    "The bridge is a structural deisgn pattern that allow to split a large class in a set of smaller related one"
   ]
  },
  {
   "cell_type": "markdown",
   "metadata": {},
   "source": [
    "It is used when you want to semplify your structure and mix some dependent classes and independent ones"
   ]
  },
  {
   "cell_type": "markdown",
   "metadata": {},
   "source": [
    "Let's see an example: Scenario -> Draw a circle in red or in blue"
   ]
  },
  {
   "cell_type": "code",
   "execution_count": 52,
   "metadata": {},
   "outputs": [],
   "source": [
    "# Define our print of blu method\n",
    "\n",
    "class blue(object):\n",
    "    ''' This is a specific abstraction '''\n",
    "    \n",
    "    def print_(self, name, r):\n",
    "        print('I am printing a {} of radius {} of blue'.format(name, r))\n",
    "\n",
    "# Same interface but different implementation!\n",
    "\n",
    "class red(object):\n",
    "    ''' This is a specific abstraction '''\n",
    "    \n",
    "    def print_(self, name, r):\n",
    "        print('I am printing a {} of radius {} of red'.format(name, r))\n",
    "\n",
    "# Let's define our object \n",
    "        \n",
    "class Circle(object):\n",
    "    ''' This is the independet abstraction for example here we could have a rectangle '''\n",
    "    \n",
    "    def __init__(self, r, how):\n",
    "        self._r = r\n",
    "        self.name = 'circle'\n",
    "        self._how = how\n",
    " \n",
    "# This is impementation specific abstraction\n",
    "\n",
    "    def draw(self):\n",
    "        self._how.print_(self.name, self._r)\n",
    "\n",
    "# This is impementation independent\n",
    "\n",
    "    def scale(self, percentage):\n",
    "        self._r *= percent"
   ]
  },
  {
   "cell_type": "code",
   "execution_count": 53,
   "metadata": {},
   "outputs": [
    {
     "name": "stdout",
     "output_type": "stream",
     "text": [
      "I am printing a circle of radius 3 of blue\n",
      "I am printing a circle of radius 4 of red\n"
     ]
    }
   ],
   "source": [
    "# and finally...\n",
    "\n",
    "circle1 = Circle(3, blue())\n",
    "circle1.draw()\n",
    "circle2 = Circle(4, red())\n",
    "circle2.draw()"
   ]
  },
  {
   "cell_type": "markdown",
   "metadata": {},
   "source": [
    "## Behavioral Design Patterns"
   ]
  },
  {
   "cell_type": "markdown",
   "metadata": {},
   "source": [
    "* Observer\n",
    "* Visitor\n",
    "* Iterator\n",
    "* Strategy\n",
    "* Chain of Responsibility"
   ]
  },
  {
   "cell_type": "markdown",
   "metadata": {},
   "source": [
    "### Observer"
   ]
  },
  {
   "cell_type": "markdown",
   "metadata": {},
   "source": [
    "Is a way to create a one to many relationship"
   ]
  },
  {
   "cell_type": "markdown",
   "metadata": {},
   "source": [
    "It is used when a subject to be monitored and some observer have to be notified"
   ]
  },
  {
   "cell_type": "markdown",
   "metadata": {},
   "source": [
    "Let's see an example: Scenario -> Newsletter of a shop to advertise products"
   ]
  },
  {
   "cell_type": "code",
   "execution_count": 1,
   "metadata": {},
   "outputs": [],
   "source": [
    "# Let's define what is our observed object\n",
    "\n",
    "class Site(object):\n",
    "    def __init__(self):\n",
    "        self._observers = [] # Here we capt all references of observers \n",
    "\n",
    "    def attach(self, observer):\n",
    "        if observer not in self._observers:\n",
    "            self._observers.append(observer)\n",
    "            \n",
    "# We need a method to delete observers from the list\n",
    "\n",
    "    def detach(self, observer):\n",
    "        try:\n",
    "            self._observers.remove(observer)\n",
    "        except ValueError:\n",
    "            pass\n",
    "        \n",
    "# We miss the most important method the notification!\n",
    "\n",
    "    def notify(self, modifier = None):\n",
    "        for observer in self._observers:\n",
    "            if modifier != observer:\n",
    "                observer.update(self)            \n",
    "                \n",
    "class Shop(Site):\n",
    "    \n",
    "    def __init__(self, name = ''):\n",
    "        Site.__init__(self)\n",
    "        self._name = name\n",
    "        self._product = 0 # No new product to advertise\n",
    "            \n",
    "    @property # Define an attribute read-only\n",
    "    def what_is_new(self):\n",
    "        return self._product    \n",
    "    \n",
    "    @what_is_new.setter\n",
    "    def what_is_new(self, product):\n",
    "        self._product = product\n",
    "        \n",
    "        self.notify()\n",
    "\n",
    "class Customer:\n",
    "    def update(self, subject):\n",
    "        print('The shop {} has this new {}'.format(subject._name, subject._product))"
   ]
  },
  {
   "cell_type": "code",
   "execution_count": 2,
   "metadata": {},
   "outputs": [
    {
     "name": "stdout",
     "output_type": "stream",
     "text": [
      "The shop Via manci has this new Shoes\n",
      "The shop Via manci has this new Shoes\n",
      "The shop Via manci has this new Scar\n",
      "The shop Via manci has this new Scar\n"
     ]
    }
   ],
   "source": [
    "s1 = Shop('Via manci')\n",
    "s2 = Shop('Via diaz')\n",
    "c1 = Customer()\n",
    "c2 = Customer()\n",
    "s1.attach(c1)\n",
    "s1.attach(c2)\n",
    "s1.what_is_new = 'Shoes'\n",
    "s1.what_is_new = 'Scar'"
   ]
  },
  {
   "cell_type": "markdown",
   "metadata": {},
   "source": [
    "### Visitor"
   ]
  },
  {
   "cell_type": "markdown",
   "metadata": {},
   "source": [
    "Visitor alllow to add new features to an existing class hierarchy without changing it"
   ]
  },
  {
   "cell_type": "markdown",
   "metadata": {},
   "source": [
    "It is used when you want to modify exsting classes with minimal changes"
   ]
  },
  {
   "cell_type": "markdown",
   "metadata": {},
   "source": [
    "Let's see an example: Scenario -> Restaurant"
   ]
  },
  {
   "cell_type": "code",
   "execution_count": 3,
   "metadata": {},
   "outputs": [],
   "source": [
    "class Restaurant(object):\n",
    "    def ask(self, visitor):\n",
    "        visitor.serve(self) # Trigger\n",
    "        \n",
    "    def serve_pizza(self, pizza):\n",
    "        print(self, 'is serving', pizza) # Reference to specialized class\n",
    "        \n",
    "    def serve_pasta(self, pasta):\n",
    "        print(self, 'is serving', pasta) # Reference to specialized class\n",
    "            \n",
    "    def __str__(self):\n",
    "        return self.__class__.__name__ # Display class name when printing the object\n",
    "    \n",
    "class order(object):\n",
    "    ''' Abstract visitor'''\n",
    "        \n",
    "    def __str__(self):\n",
    "        return self.__class__.__name__\n",
    "\n",
    "# pizza inherits from parent class food\n",
    "\n",
    "class pizza(order):\n",
    "    ''' Concrete Visitor '''\n",
    "    \n",
    "    def serve(self, restaurant):\n",
    "        restaurant.serve_pizza(self) #Reference to Restaurant   \n",
    "              \n",
    "# same on pasta...\n",
    "        \n",
    "class pasta(order):\n",
    "    ''' Concrete Visitor '''\n",
    "    \n",
    "    def serve(self, restaurant):\n",
    "        restaurant.serve_pasta(self) #Reference to Restaurant             "
   ]
  },
  {
   "cell_type": "code",
   "execution_count": 4,
   "metadata": {},
   "outputs": [
    {
     "name": "stdout",
     "output_type": "stream",
     "text": [
      "Restaurant is serving pizza\n",
      "Restaurant is serving pasta\n"
     ]
    }
   ],
   "source": [
    "# Let's define our dishes\n",
    "\n",
    "p1 = pizza()\n",
    "\n",
    "p2 = pasta()\n",
    "\n",
    "# Instantiate the Restaurant\n",
    "\n",
    "restaurant = Restaurant()\n",
    "\n",
    "# Serve our dishes\n",
    "\n",
    "restaurant.ask(p1)\n",
    "\n",
    "restaurant.ask(p2)"
   ]
  },
  {
   "cell_type": "markdown",
   "metadata": {},
   "source": [
    "### Iterator"
   ]
  },
  {
   "cell_type": "markdown",
   "metadata": {},
   "source": [
    "Can traverse elements of a collection without exposing its underlying representation"
   ]
  },
  {
   "cell_type": "markdown",
   "metadata": {},
   "source": [
    "It is used when you want give andress of multiple object and only after you have grouped all perform some operation. It is very useful to save computational time"
   ]
  },
  {
   "cell_type": "markdown",
   "metadata": {},
   "source": [
    "Let's see an example: Scenario -> Count in spanish"
   ]
  },
  {
   "cell_type": "code",
   "execution_count": 6,
   "metadata": {},
   "outputs": [],
   "source": [
    "# Create our function using the zip one\n",
    "\n",
    "def count_to(count):\n",
    "    ''' Iterator '''\n",
    "\n",
    "    number_in_spanish = ['uno', 'dos', 'tres', 'cuatro', 'cinco']\n",
    "\n",
    "# Define our Iterator    \n",
    "\n",
    "    iterator = zip(range(count), number_in_spanish) # Create tuple such as (1, 'uno')\n",
    "\n",
    "# Cicle on our list, extract the number and store them in a generator\n",
    "\n",
    "    for position, number in iterator:\n",
    "        yield number # Here we return an generator"
   ]
  },
  {
   "cell_type": "code",
   "execution_count": 7,
   "metadata": {},
   "outputs": [
    {
     "data": {
      "text/plain": [
       "<generator object count_to at 0x0000016BDDF66BC8>"
      ]
     },
     "execution_count": 7,
     "metadata": {},
     "output_type": "execute_result"
    }
   ],
   "source": [
    "# Do you trust me? Elena probably no =) so...\n",
    "\n",
    "count_to(3)\n",
    "\n",
    "# Every generator is an iterator, but not vice versa"
   ]
  },
  {
   "cell_type": "code",
   "execution_count": 8,
   "metadata": {},
   "outputs": [
    {
     "name": "stdout",
     "output_type": "stream",
     "text": [
      "uno\n",
      "dos\n",
      "tres\n",
      "un pasito pa'lante, Maria\n"
     ]
    }
   ],
   "source": [
    "# Let's see the generator elements \n",
    "\n",
    "for num in count_to(3):\n",
    "    print('{}'.format(num))\n",
    "print(\"un pasito pa'lante, Maria\")"
   ]
  },
  {
   "cell_type": "markdown",
   "metadata": {},
   "source": [
    "### Strategy"
   ]
  },
  {
   "cell_type": "markdown",
   "metadata": {},
   "source": [
    "Strategy lets you define a family of algorithms interchangeable"
   ]
  },
  {
   "cell_type": "markdown",
   "metadata": {},
   "source": [
    "It is used when you want change dinamically the behavior of an object"
   ]
  },
  {
   "cell_type": "markdown",
   "metadata": {},
   "source": [
    "Let's see an example: Scenario -> Go to airport"
   ]
  },
  {
   "cell_type": "code",
   "execution_count": 9,
   "metadata": {},
   "outputs": [],
   "source": [
    "import types \n",
    "\n",
    "# Define our default Strategy to go to airport\n",
    "\n",
    "class Strategy:\n",
    "    \"\"\"The Strategy Pattern class\"\"\"\n",
    "    \n",
    "    def __init__(self, function=None):\n",
    "        self.name = \"normal case\" # 0 Strategy\n",
    "        \n",
    "# Define a way to change stratey method if we want\n",
    "\n",
    "        if function:\n",
    "            self.execute = types.MethodType(function, self)\n",
    "\n",
    "# Here we use execute depending on our strategy\n",
    "            \n",
    "    def execute(self):\n",
    "        print(\"We go by {}\".format(self.name))\n",
    "\n",
    "\n",
    "# Strategy 1\n",
    "def strategy_one(self):\n",
    "    print(\"{} we go by car\".format(self.name))\n",
    "\n",
    "\n",
    "# Strategy 2\n",
    "def strategy_two(self):\n",
    "    print(\"{} we go by bicycle\".format(self.name))"
   ]
  },
  {
   "cell_type": "code",
   "execution_count": 10,
   "metadata": {},
   "outputs": [
    {
     "name": "stdout",
     "output_type": "stream",
     "text": [
      "We go by normal case\n",
      "if strike: we go by car\n",
      "extreme case: we go by bicycle\n"
     ]
    }
   ],
   "source": [
    "# Initialize our default strategy\n",
    "\n",
    "s0 = Strategy()\n",
    "\n",
    "# Let's execute it\n",
    "\n",
    "s0.execute()\n",
    "\n",
    "# Let's provide a new behavior\n",
    "\n",
    "s1 = Strategy(strategy_one)\n",
    "\n",
    "# Let's set its name\n",
    "\n",
    "s1.name = \"if strike:\"\n",
    "\n",
    "# Let's execute the strategy\n",
    "\n",
    "s1.execute()\n",
    "\n",
    "# And if we need...\n",
    "\n",
    "s2 = Strategy(strategy_two)\n",
    "s2.name = \"extreme case:\"\n",
    "s2.execute()"
   ]
  },
  {
   "cell_type": "markdown",
   "metadata": {},
   "source": [
    "### Chain of responsibility"
   ]
  },
  {
   "cell_type": "markdown",
   "metadata": {},
   "source": [
    "It chose fom varius processing for a given request "
   ]
  },
  {
   "cell_type": "markdown",
   "metadata": {},
   "source": [
    "Chain of responsibility use a series of handlers to decides either to process the request or to pass it to the next handler in the chain "
   ]
  },
  {
   "cell_type": "markdown",
   "metadata": {},
   "source": [
    "Let's see an example: Scenario -> sry i am to tired to think about it and to make it funny"
   ]
  },
  {
   "cell_type": "code",
   "execution_count": 11,
   "metadata": {},
   "outputs": [],
   "source": [
    "# Define our an abstraact hanlder that store a successor if we can't handle the request\n",
    "\n",
    "class Handler:\n",
    "    ''' Abstract handler '''\n",
    "    \n",
    "    def __init__(self, successor):\n",
    "        self._successor = successor # Define who is the next handler\n",
    "        \n",
    "    def handle(self, request):\n",
    "        handled = self._handle(request) \n",
    "        \n",
    "# If handled stop, otherwise\n",
    "\n",
    "        if not handled:\n",
    "            self._successor.handle(request)\n",
    "            \n",
    "    def _handle(self, request):\n",
    "        raise NotImplementedError(\"we don't have this implementation\")\n",
    " \n",
    "# This class handle the request if can\n",
    "\n",
    "class Concrete_Handler1(Handler): # Inherits from the abstract class\n",
    "    ''' Concrete handler '''\n",
    "    \n",
    "    def _handle(slef, request):\n",
    "        if 0 < request <= 10: # The requests that we can handle\n",
    "            print('request {} handled in concrete handler 1'.format(request))\n",
    "            return True # We handled it!\n",
    "\n",
    "# Now define a class to handle the out of range request        \n",
    "        \n",
    "class Last_Handler(Handler):\n",
    "    ''' Last Handler '''\n",
    "    \n",
    "    def _handle(self, request):\n",
    "        print('sry end of chain! not handled the request {}'.format(request))\n",
    "        return True\n",
    "\n",
    "# Create user of Handler and use in the sequence that we want\n",
    "    \n",
    "class User:\n",
    "    def __init__(self):\n",
    "        self.handler = Concrete_Handler1(Last_Handler(None))\n",
    "        \n",
    "    def delegate(self, request):\n",
    "        for request in requests: # Examine one request at time and try to handle\n",
    "            self.handler.handle(request)            "
   ]
  },
  {
   "cell_type": "code",
   "execution_count": 12,
   "metadata": {},
   "outputs": [
    {
     "name": "stdout",
     "output_type": "stream",
     "text": [
      "request 2 handled in concrete handler 1\n",
      "request 5 handled in concrete handler 1\n",
      "sry end of chain! not handled the request 30\n"
     ]
    }
   ],
   "source": [
    "# This is our client\n",
    "\n",
    "u = User()\n",
    "\n",
    "# Make some request\n",
    "\n",
    "requests =[2, 5, 30]\n",
    "\n",
    "# and try to solve...\n",
    "\n",
    "u.delegate(requests)"
   ]
  }
 ],
 "metadata": {
  "kernelspec": {
   "display_name": "Python 3",
   "language": "python",
   "name": "python3"
  },
  "language_info": {
   "codemirror_mode": {
    "name": "ipython",
    "version": 3
   },
   "file_extension": ".py",
   "mimetype": "text/x-python",
   "name": "python",
   "nbconvert_exporter": "python",
   "pygments_lexer": "ipython3",
   "version": "3.8.8"
  }
 },
 "nbformat": 4,
 "nbformat_minor": 4
}
